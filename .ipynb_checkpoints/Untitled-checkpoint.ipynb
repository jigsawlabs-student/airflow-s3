{
 "cells": [
  {
   "cell_type": "markdown",
   "id": "radio-edwards",
   "metadata": {},
   "source": [
    "# Variables"
   ]
  },
  {
   "cell_type": "markdown",
   "id": "faced-event",
   "metadata": {},
   "source": [
    "> <img src=\"./adding_variable.png\" width=\"60%\">"
   ]
  },
  {
   "cell_type": "markdown",
   "id": "intended-racing",
   "metadata": {},
   "source": [
    "```python\n",
    "from airflow import Variable\n",
    "\n",
    "def load_data_to_redshift():\n",
    "    arn = Variable.get('arn_role')\n",
    "    redshift_hook = PostgresHook('redshift')\n",
    "    query = f\"\"\"COPY zipcodes (id, code, city_id) from 's3://jigsaw-sample-data/zipcodes.csv'\n",
    "    credentials 'aws_iam_role={arn}'\n",
    "    delimiter ','\n",
    "    IGNOREHEADER 1\n",
    "    region 'us-east-1';\"\"\"\n",
    "    redshift_hook.run(query)\n",
    "```"
   ]
  },
  {
   "cell_type": "markdown",
   "id": "beautiful-sweden",
   "metadata": {},
   "source": [
    "### Uploading to S3"
   ]
  },
  {
   "cell_type": "markdown",
   "id": "confidential-standard",
   "metadata": {},
   "source": [
    "> <img src=\"./s3_connection.png\" width=\"60%\">"
   ]
  },
  {
   "cell_type": "markdown",
   "id": "corresponding-still",
   "metadata": {},
   "source": [
    "```python\n",
    "from airflow.hooks.S3_hook import S3Hook\n",
    "\n",
    "def upload_to_s3():\n",
    "    s3_hook = S3Hook('s3_connection')\n",
    "    s3_hook.load_string(string_data='hello world', bucket_name='jk-jigsaw-foursquare', key='practice.csv')\n",
    "```"
   ]
  },
  {
   "cell_type": "code",
   "execution_count": null,
   "id": "asian-veteran",
   "metadata": {},
   "outputs": [],
   "source": []
  },
  {
   "cell_type": "markdown",
   "id": "returning-gates",
   "metadata": {},
   "source": [
    "> <img src=\"./uploading_s3.png\" width=\"80%\">"
   ]
  },
  {
   "cell_type": "markdown",
   "id": "clear-dublin",
   "metadata": {},
   "source": [
    "And if we look at our s3 buckets, we'll see the following:"
   ]
  },
  {
   "cell_type": "markdown",
   "id": "sealed-antibody",
   "metadata": {},
   "source": [
    "> <img src=\"./practice_csv.png\" width=\"50%\">"
   ]
  },
  {
   "cell_type": "markdown",
   "id": "understood-designation",
   "metadata": {},
   "source": [
    "## From Redshift to S3"
   ]
  },
  {
   "cell_type": "code",
   "execution_count": null,
   "id": "statistical-canada",
   "metadata": {},
   "outputs": [],
   "source": []
  },
  {
   "cell_type": "code",
   "execution_count": null,
   "id": "selected-heart",
   "metadata": {},
   "outputs": [],
   "source": [
    "postgres_hook = PostgresHook(postgres_conn_id=self._postgres_conn_id)\n",
    "s3_hook = S3Hook(aws_conn_id=self._s3_conn_id)\n",
    "\n",
    "results = postgres_hook.get_records(self._query)\n",
    "s3_hook.load_string(string_data=str(results), bucket_name=self._s3_bucket, key=self._s3_key)"
   ]
  },
  {
   "cell_type": "markdown",
   "id": "selected-latest",
   "metadata": {},
   "source": [
    "<img src=\"./aws_access_key_id.png\" width=\"80%\">"
   ]
  },
  {
   "cell_type": "markdown",
   "id": "bacterial-cookie",
   "metadata": {},
   "source": [
    "[Airflow Lessons](https://medium.com/snaptravel/airflow-part-2-lessons-learned-793fa3c0841e)"
   ]
  }
 ],
 "metadata": {
  "kernelspec": {
   "display_name": "Python 3",
   "language": "python",
   "name": "python3"
  },
  "language_info": {
   "codemirror_mode": {
    "name": "ipython",
    "version": 3
   },
   "file_extension": ".py",
   "mimetype": "text/x-python",
   "name": "python",
   "nbconvert_exporter": "python",
   "pygments_lexer": "ipython3",
   "version": "3.8.6"
  }
 },
 "nbformat": 4,
 "nbformat_minor": 5
}
